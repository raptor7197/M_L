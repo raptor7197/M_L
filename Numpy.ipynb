{
 "cells": [
  {
   "cell_type": "code",
   "execution_count": 1,
   "metadata": {},
   "outputs": [],
   "source": [
    "import numpy as np\n",
    "\n"
   ]
  },
  {
   "cell_type": "code",
   "execution_count": 2,
   "metadata": {},
   "outputs": [
    {
     "name": "stdout",
     "output_type": "stream",
     "text": [
      "[1 2 3 4]\n",
      "[[ 1  2  3  4]\n",
      " [ 5  6  7  8]\n",
      " [ 9 10 11 12]]\n"
     ]
    }
   ],
   "source": [
    "a1D = np.array([1, 2, 3, 4])\n",
    "a2D = np.array([[1, 2, 3, 4], [5, 6, 7, 8], [9, 10, 11, 12]])\n",
    "\n",
    "print(a1D)\n",
    "print(a2D)\n",
    "\n",
    "\n",
    "\n"
   ]
  },
  {
   "cell_type": "code",
   "execution_count": 21,
   "metadata": {},
   "outputs": [
    {
     "name": "stdout",
     "output_type": "stream",
     "text": [
      "[0 1 2 3 4 5 6 7 8 9]\n",
      "[2 3 4 5 6 7 8 9]\n",
      "[1 3 5 7 9]\n",
      "x:  [0 1 2 3 4 5 6 7 8 9]\n",
      "[0 1 2 3 4 5 6 7 8 9]\n",
      "8\n",
      "9\n"
     ]
    },
    {
     "data": {
      "text/plain": [
       "2"
      ]
     },
     "execution_count": 21,
     "metadata": {},
     "output_type": "execute_result"
    }
   ],
   "source": [
    "print(np.arange(10))\n",
    "# an array of evenly spaced values.\n",
    "\n",
    "\n",
    "arr1 = np.arange(2, 10)\n",
    "print(arr1)\n",
    "\n",
    "arr2 = np.arange(1, 10, 2)\n",
    "print(arr2)\n",
    "# Create an array with a specified start, stop, and step values\n",
    "np.arange(2, 10, dtype=np.int32)\n",
    "# elements will be of type int32 (32-bit integer). not includes 10.\n",
    "\n",
    "np.eye(3)\n",
    "# 2d identity matrix\n",
    "\n",
    "np.linspace(1., 4., 6)\n",
    "x = np.arange(10)\n",
    "print(\"x: \", x)\n",
    "# start stop and step values\n",
    "x.shape = (2, 5)  # now x is 2-dimensional\n",
    "print(x[1, 3])\n",
    "print(x[1, -1])\n",
    "x[0][2]\n",
    "# basic slice syntax is i:j:k where i is the starting index, j is the stopping index, and k is the step (k!=0). This selects the m elements (in the corresponding dimension) with index values i,i+k,....\n",
    "\n"
   ]
  },
  {
   "cell_type": "code",
   "execution_count": 27,
   "metadata": {},
   "outputs": [
    {
     "data": {
      "text/plain": [
       "b'hello\\x00\\x00world\\x00\\x00'"
      ]
     },
     "execution_count": 27,
     "metadata": {},
     "output_type": "execute_result"
    }
   ],
   "source": [
    "np.array([\"hello\", \"world!\"], dtype=\"U5\")\n",
    "np.array([\"hello\", \"world!\"], dtype=\"U7\")\n",
    "\n",
    "np.array([\"hello\", \"world\"], dtype=\"S7\").tobytes()"
   ]
  },
  {
   "cell_type": "code",
   "execution_count": 39,
   "metadata": {},
   "outputs": [
    {
     "name": "stdout",
     "output_type": "stream",
     "text": [
      "[3. 4. 5.] [-1.  0.  1.] [0.5 1.  1.5] [1. 0. 1.] [0. 1. 1.] [ 1.  8. 27.]\n"
     ]
    }
   ],
   "source": [
    "\n",
    "a = np.array([1.0, 2.0, 3.0])\n",
    "b = np.array([2.0, 2.0, 2.0])\n",
    "c = 3.0\n",
    "# a * b\n",
    "A = a + b\n",
    "B = a - b\n",
    "C = a / b\n",
    "D = a % b\n",
    "E = a // b\n",
    "F = a ** c\n",
    "# a & b\n",
    "# a | b\n",
    "print(A, B, C, D, E,F)\n",
    "\n"
   ]
  },
  {
   "cell_type": "code",
   "execution_count": null,
   "metadata": {},
   "outputs": [],
   "source": []
  },
  {
   "cell_type": "code",
   "execution_count": 2,
   "metadata": {},
   "outputs": [],
   "source": []
  },
  {
   "cell_type": "code",
   "execution_count": null,
   "metadata": {},
   "outputs": [],
   "source": []
  }
 ],
 "metadata": {
  "kernelspec": {
   "display_name": "Python 3",
   "language": "python",
   "name": "python3"
  },
  "language_info": {
   "codemirror_mode": {
    "name": "ipython",
    "version": 3
   },
   "file_extension": ".py",
   "mimetype": "text/x-python",
   "name": "python",
   "nbconvert_exporter": "python",
   "pygments_lexer": "ipython3",
   "version": "3.10.12"
  }
 },
 "nbformat": 4,
 "nbformat_minor": 2
}
