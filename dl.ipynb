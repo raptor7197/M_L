{
 "cells": [
  {
   "cell_type": "code",
   "execution_count": 1,
   "metadata": {},
   "outputs": [
    {
     "ename": "NameError",
     "evalue": "name 'torch' is not defined",
     "output_type": "error",
     "traceback": [
      "\u001b[31m---------------------------------------------------------------------------\u001b[39m",
      "\u001b[31mNameError\u001b[39m                                 Traceback (most recent call last)",
      "\u001b[36mCell\u001b[39m\u001b[36m \u001b[39m\u001b[32mIn[1]\u001b[39m\u001b[32m, line 7\u001b[39m\n\u001b[32m      5\u001b[39m end=\u001b[32m1\u001b[39m\n\u001b[32m      6\u001b[39m step=\u001b[32m.02\u001b[39m\n\u001b[32m----> \u001b[39m\u001b[32m7\u001b[39m x = \u001b[43mtorch\u001b[49m.arange(start,end,end).unsqueeze(dim=\u001b[32m1\u001b[39m)\n\u001b[32m      8\u001b[39m y=weight*x+bias\n\u001b[32m     10\u001b[39m x[:\u001b[32m10\u001b[39m] ,y[:\u001b[32m10\u001b[39m]\n",
      "\u001b[31mNameError\u001b[39m: name 'torch' is not defined"
     ]
    }
   ],
   "source": [
    "weight = .7\n",
    "bias=.5\n",
    "\n",
    "start=0\n",
    "end=1\n",
    "step=.02\n",
    "x = torch.arange(start,end,end).unsqueeze(dim=1)\n",
    "y=weight*x+bias\n",
    "\n",
    "x[:10] ,y[:10]\n",
    "\n",
    "\n"
   ]
  }
 ],
 "metadata": {
  "kernelspec": {
   "display_name": ".venv",
   "language": "python",
   "name": "python3"
  },
  "language_info": {
   "codemirror_mode": {
    "name": "ipython",
    "version": 3
   },
   "file_extension": ".py",
   "mimetype": "text/x-python",
   "name": "python",
   "nbconvert_exporter": "python",
   "pygments_lexer": "ipython3",
   "version": "3.12.3"
  }
 },
 "nbformat": 4,
 "nbformat_minor": 2
}
